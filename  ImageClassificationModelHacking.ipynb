{
 "cells": [
  {
   "cell_type": "code",
   "execution_count": 4,
   "metadata": {},
   "outputs": [],
   "source": [
    "# https://coderzcolumn.com/tutorials/artificial-intelligence/object-detection-using-pre-trained-pytorch-models"
   ]
  },
  {
   "cell_type": "markdown",
   "metadata": {},
   "source": [
    "# Todo\n",
    "\n",
    "How to speed up\n",
    "* See if runs on CUDA\n",
    "* Better GPU?\n",
    "\n",
    "Have search pixels do random replacements\n",
    "* Will this actually be better?\n",
    "* Add all pixels to queue and shuffle it?\n",
    "\n",
    "Implement binary / chunk search\n",
    "* Starts with chunks as big as 100% of image\n",
    "* Then half height and test all\n",
    "* Then half width and test all\n",
    "* Etc\n",
    "\n",
    "Run random pixels and actual image in parrallel\n",
    "* Do both at same time?\n",
    "* Just to see difference"
   ]
  },
  {
   "cell_type": "markdown",
   "metadata": {},
   "source": [
    "# Get Needed Packages"
   ]
  },
  {
   "cell_type": "code",
   "execution_count": 5,
   "metadata": {},
   "outputs": [
    {
     "name": "stdout",
     "output_type": "stream",
     "text": [
      "Requirement already satisfied: torch in c:\\programdata\\anaconda3\\lib\\site-packages (1.13.1)\n",
      "Requirement already satisfied: typing-extensions in c:\\users\\sixtium\\appdata\\roaming\\python\\python37\\site-packages (from torch) (4.2.0)\n",
      "Requirement already satisfied: pycocotools in c:\\programdata\\anaconda3\\lib\\site-packages (2.0.6)\n",
      "Requirement already satisfied: matplotlib>=2.1.0 in c:\\programdata\\anaconda3\\lib\\site-packages (from pycocotools) (3.1.3)\n",
      "Requirement already satisfied: numpy in c:\\programdata\\anaconda3\\lib\\site-packages (from pycocotools) (1.18.1)\n",
      "Requirement already satisfied: python-dateutil>=2.1 in c:\\programdata\\anaconda3\\lib\\site-packages (from matplotlib>=2.1.0->pycocotools) (2.8.1)\n",
      "Requirement already satisfied: cycler>=0.10 in c:\\programdata\\anaconda3\\lib\\site-packages (from matplotlib>=2.1.0->pycocotools) (0.10.0)\n",
      "Requirement already satisfied: kiwisolver>=1.0.1 in c:\\programdata\\anaconda3\\lib\\site-packages (from matplotlib>=2.1.0->pycocotools) (1.1.0)\n",
      "Requirement already satisfied: pyparsing!=2.0.4,!=2.1.2,!=2.1.6,>=2.0.1 in c:\\programdata\\anaconda3\\lib\\site-packages (from matplotlib>=2.1.0->pycocotools) (2.4.6)\n",
      "Requirement already satisfied: six>=1.5 in c:\\programdata\\anaconda3\\lib\\site-packages (from python-dateutil>=2.1->matplotlib>=2.1.0->pycocotools) (1.14.0)\n",
      "Requirement already satisfied: setuptools in c:\\programdata\\anaconda3\\lib\\site-packages (from kiwisolver>=1.0.1->matplotlib>=2.1.0->pycocotools) (45.2.0.post20200210)\n"
     ]
    },
    {
     "name": "stderr",
     "output_type": "stream",
     "text": [
      "C:\\ProgramData\\Anaconda3\\lib\\site-packages\\requests\\__init__.py:91: RequestsDependencyWarning: urllib3 (1.26.9) or chardet (3.0.4) doesn't match a supported version!\n",
      "  RequestsDependencyWarning)\n"
     ]
    },
    {
     "name": "stdout",
     "output_type": "stream",
     "text": [
      "TorchVision Version : 0.14.1+cpu\n",
      "PyTorch Version : 1.13.1+cpu\n"
     ]
    }
   ],
   "source": [
    "!pip install torch\n",
    "!pip install pycocotools\n",
    "\n",
    "import torch\n",
    "import random\n",
    "import pycocotools\n",
    "import numpy as np\n",
    "import torchvision\n",
    "from PIL import Image\n",
    "import matplotlib.pyplot as plt\n",
    "from pycocotools.coco import COCO\n",
    "from torchvision.utils import draw_bounding_boxes\n",
    "from torchvision.transforms.functional import to_pil_image\n",
    "from torchvision.transforms.functional import pil_to_tensor\n",
    "from torchvision.models.detection import fasterrcnn_resnet50_fpn\n",
    "\n",
    "print(\"TorchVision Version : {}\".format(torchvision.__version__))\n",
    "print(\"PyTorch Version : {}\".format(torch.__version__))"
   ]
  },
  {
   "cell_type": "markdown",
   "metadata": {},
   "source": [
    "# Image Classification Function"
   ]
  },
  {
   "cell_type": "markdown",
   "metadata": {},
   "source": [
    "## Constants from \"get_image_data()\" to speed it up"
   ]
  },
  {
   "cell_type": "code",
   "execution_count": 6,
   "metadata": {},
   "outputs": [
    {
     "name": "stderr",
     "output_type": "stream",
     "text": [
      "C:\\ProgramData\\Anaconda3\\lib\\site-packages\\torchvision\\models\\_utils.py:209: UserWarning: The parameter 'pretrained' is deprecated since 0.13 and may be removed in the future, please use 'weights' instead.\n",
      "  f\"The parameter '{pretrained_param}' is deprecated since 0.13 and may be removed in the future, \"\n",
      "C:\\ProgramData\\Anaconda3\\lib\\site-packages\\torchvision\\models\\_utils.py:223: UserWarning: Arguments other than a weight enum or `None` for 'weights' are deprecated since 0.13 and may be removed in the future. The current behavior is equivalent to passing `weights=FasterRCNN_ResNet50_FPN_Weights.COCO_V1`. You can also use `weights=FasterRCNN_ResNet50_FPN_Weights.DEFAULT` to get the most up-to-date weights.\n",
      "  warnings.warn(msg)\n"
     ]
    },
    {
     "name": "stdout",
     "output_type": "stream",
     "text": [
      "loading annotations into memory...\n",
      "Done (t=1.01s)\n",
      "creating index...\n",
      "index created!\n"
     ]
    }
   ],
   "source": [
    "# The actual detection model\n",
    "object_detection_model = fasterrcnn_resnet50_fpn(pretrained=True, progress=False)\n",
    "object_detection_model.eval(); ## Setting Model for Evaluation/Prediction\n",
    "\n",
    "# File with the possible results\n",
    "annFile='annotations/instances_val2017.json'\n",
    "coco=COCO(annFile)    "
   ]
  },
  {
   "cell_type": "code",
   "execution_count": 7,
   "metadata": {},
   "outputs": [],
   "source": [
    "# Get the results of the image classification\n",
    "def get_image_data(path):\n",
    "    image = Image.open(path)\n",
    "    image_tensor_int = pil_to_tensor(image)\n",
    "    image_tensor_int = image_tensor_int.unsqueeze(dim=0)\n",
    "    image_tensor_float = image_tensor_int / 255.0\n",
    "    image_preds = object_detection_model(image_tensor_float)\n",
    "    \n",
    "    image_preds[0][\"boxes\"] = image_preds[0][\"boxes\"][image_preds[0][\"scores\"] > 0.8]\n",
    "    image_preds[0][\"labels\"] = image_preds[0][\"labels\"][image_preds[0][\"scores\"] > 0.8]\n",
    "    image_preds[0][\"scores\"] = image_preds[0][\"scores\"][image_preds[0][\"scores\"] > 0.8]\n",
    "    \n",
    "    image_labels = coco.loadCats(image_preds[0][\"labels\"].numpy())\n",
    "    \n",
    "    image_annot_labels = [\"{}-{:.2f}\".format(label[\"name\"], prob) for label, prob in zip(image_labels, image_preds[0][\"scores\"].detach().numpy())]\n",
    "        \n",
    "    return [image_labels[0][\"name\"], image_preds[0][\"scores\"][0].item()]"
   ]
  },
  {
   "cell_type": "markdown",
   "metadata": {},
   "source": [
    "# Auxiliary Functions"
   ]
  },
  {
   "cell_type": "code",
   "execution_count": 8,
   "metadata": {},
   "outputs": [],
   "source": [
    "# Change a random pixel of an image to a random color\n",
    "def change_random_pixel(path):\n",
    "    image = Image.open(path)\n",
    "    pixels = image.load()\n",
    "\n",
    "    width, height = image.size\n",
    "    color = (random.randint(0, 255), random.randint(0, 255), random.randint(0, 255))\n",
    "    \n",
    "    pixels[random.randint(0, width-1), random.randint(0, height-1)] = color\n",
    "    image.save(path)"
   ]
  },
  {
   "cell_type": "code",
   "execution_count": 9,
   "metadata": {},
   "outputs": [],
   "source": [
    "# Change a random pixel and analyze the result\n",
    "def change_and_analyze(path):\n",
    "    change_random_pixel(path)\n",
    "    results = get_image_data(path)\n",
    "    return get_image_data(path)"
   ]
  },
  {
   "cell_type": "code",
   "execution_count": 10,
   "metadata": {},
   "outputs": [],
   "source": [
    "# Change a set pixel to a random color\n",
    "def change_pixel_to_random_color(path, pixel_x, pixel_y):\n",
    "    image = Image.open(path)\n",
    "    pixels = image.load()\n",
    "\n",
    "    width, height = image.size\n",
    "    color = (random.randint(0, 255), random.randint(0, 255), random.randint(0, 255))\n",
    "    \n",
    "    pixels[pixel_x, pixel_y] = color\n",
    "    image.save(path)"
   ]
  },
  {
   "cell_type": "code",
   "execution_count": 11,
   "metadata": {},
   "outputs": [],
   "source": [
    "# Change a set pixel to the color of another image\n",
    "def change_pixel_to_image(path, replacement_path, pixel_x, pixel_y):\n",
    "    image = Image.open(path)\n",
    "    pixels = image.load()\n",
    "    \n",
    "    replacement_image = Image.open(replacement_path)\n",
    "    replacement_pixels = replacement_image.load()\n",
    "\n",
    "    width, height = image.size\n",
    "    \n",
    "    pixels[pixel_x, pixel_y] = replacement_pixels[pixel_x, pixel_y]\n",
    "    image.save(path)"
   ]
  },
  {
   "cell_type": "code",
   "execution_count": 12,
   "metadata": {},
   "outputs": [],
   "source": [
    "# Clone the paths\n",
    "def clone_path(base_path, clone_path):\n",
    "    image = Image.open(base_path)\n",
    "    image.save(clone_path)"
   ]
  },
  {
   "cell_type": "markdown",
   "metadata": {},
   "source": [
    "# Get Initial Results"
   ]
  },
  {
   "cell_type": "markdown",
   "metadata": {},
   "source": [
    "## Inputs"
   ]
  },
  {
   "cell_type": "code",
   "execution_count": 13,
   "metadata": {},
   "outputs": [],
   "source": [
    "# Path of the original image\n",
    "path = \"dog.jpg\"\n",
    "\n",
    "# Path of the image to replace, leave as empty string if you want random pixels\n",
    "replacement_path = \"\"\n",
    "\n",
    "# How much you want the accuracy of the image classification to drop\n",
    "acceptable_accuracy_drop = 0.10"
   ]
  },
  {
   "cell_type": "code",
   "execution_count": 14,
   "metadata": {},
   "outputs": [
    {
     "name": "stdout",
     "output_type": "stream",
     "text": [
      "256 256\n"
     ]
    }
   ],
   "source": [
    "# Deal with original image\n",
    "path_2 = f\"{2}_{path[:-4]}.png\"\n",
    "    \n",
    "clone_path(path, path_2)\n",
    "\n",
    "image = Image.open(path)\n",
    "pixels = image.load()\n",
    "width, height = image.size\n",
    "print(width, height)"
   ]
  },
  {
   "cell_type": "code",
   "execution_count": 15,
   "metadata": {},
   "outputs": [],
   "source": [
    "# Deal with replacement image\n",
    "replacement_path_2 = \"\"\n",
    "\n",
    "if replacement_path != \"\":\n",
    "    replacement_path_2 = f\"{2}_{replacement_path[:-4]}.png\"\n",
    "    img = Image.open(replacement_path)\n",
    "    img_resize = img.resize((width, height), Image.LANCZOS)\n",
    "    img_resize.save(replacement_path_2)\n",
    "    print(replacement_path_2)"
   ]
  },
  {
   "cell_type": "code",
   "execution_count": 16,
   "metadata": {},
   "outputs": [],
   "source": [
    "# Get starting variables\n",
    "base_result_percentage = round(get_image_data(path_2)[1],5)\n",
    "changes_list = []\n",
    "accuracy_list = []\n",
    "results = []\n",
    "changes = 0"
   ]
  },
  {
   "cell_type": "code",
   "execution_count": null,
   "metadata": {},
   "outputs": [],
   "source": [
    "# Iterate over image while changing pixels\n",
    "for x in range(width):\n",
    "    for y in range(height):\n",
    "        \n",
    "        # Setup temp image\n",
    "        temp_path = f\"{3}_{path[:-4]}.png\"\n",
    "        clone_path(path_2, temp_path)\n",
    "        changes_list.append(changes)\n",
    "        \n",
    "        # Change pixels based on random pixels or image\n",
    "        if replacement_path != \"\":\n",
    "            change_pixel_to_image(temp_path, replacement_path_2, pixel_x, pixel_y)\n",
    "        else:\n",
    "            change_pixel_to_random_color(temp_path, x, y)\n",
    "        \n",
    "        # Result of the changes\n",
    "        temp_result_percentage = round(get_image_data(path_2)[1],5)\n",
    "        \n",
    "        # Print out the information\n",
    "        print(\"X: {}\\tY: {}\\tChanges: {}\\tBase: {}\\tTemp: {}\\tDelta {}\".format(\n",
    "            x, y,\n",
    "            changes,\n",
    "            base_result_percentage,\n",
    "            temp_result_percentage,\n",
    "            round(abs(temp_result_percentage - base_result_percentage),5)\n",
    "        ))\n",
    "        \n",
    "        # Check error bounds on image\n",
    "        if temp_result_percentage >= (base_result_percentage-((acceptable_accuracy_drop*x*y)/(width*height))):\n",
    "            # If within error bounds, keep the image\n",
    "            clone_path(temp_path, path_2)\n",
    "            changes += 1\n",
    "        else:\n",
    "            # Discard image\n",
    "            clone_path(path_2, temp_path)\n",
    "        \n",
    "        # Update results\n",
    "        results.append(changes)\n",
    "        accuracy_list.append(temp_result_percentage)"
   ]
  },
  {
   "cell_type": "markdown",
   "metadata": {},
   "source": [
    "# Results"
   ]
  },
  {
   "cell_type": "markdown",
   "metadata": {},
   "source": [
    "## Plot Results"
   ]
  },
  {
   "cell_type": "code",
   "execution_count": 12,
   "metadata": {
    "scrolled": true
   },
   "outputs": [
    {
     "data": {
      "image/png": "[encoded data removed]",
      "text/plain": [
       "<Figure size 432x288 with 1 Axes>"
      ]
     },
     "metadata": {
      "needs_background": "light"
     },
     "output_type": "display_data"
    }
   ],
   "source": [
    "results_x = [i for i in range(len(results))]\n",
    "\n",
    "plt.plot(results_x, results)\n",
    "plt.show()"
   ]
  },
  {
   "cell_type": "code",
   "execution_count": null,
   "metadata": {},
   "outputs": [],
   "source": [
    "accuracy_list_x = [i for i in range(len(accuracy_list))]\n",
    "\n",
    "plt.plot(accuracy_list_x, accuracy_list)\n",
    "plt.show()"
   ]
  },
  {
   "cell_type": "markdown",
   "metadata": {},
   "source": [
    "## Show Results"
   ]
  },
  {
   "cell_type": "code",
   "execution_count": 13,
   "metadata": {},
   "outputs": [],
   "source": [
    "# Original Image\n",
    "original = Image.open(path)\n",
    "original.show()"
   ]
  },
  {
   "cell_type": "code",
   "execution_count": 14,
   "metadata": {},
   "outputs": [],
   "source": [
    "# Finished Image\n",
    "finished = Image.open(path_2)\n",
    "finished.show()"
   ]
  }
 ],
 "metadata": {
  "kernelspec": {
   "display_name": "Python 3",
   "language": "python",
   "name": "python3"
  },
  "language_info": {
   "codemirror_mode": {
    "name": "ipython",
    "version": 3
   },
   "file_extension": ".py",
   "mimetype": "text/x-python",
   "name": "python",
   "nbconvert_exporter": "python",
   "pygments_lexer": "ipython3",
   "version": "3.7.6"
  }
 },
 "nbformat": 4,
 "nbformat_minor": 5
}
