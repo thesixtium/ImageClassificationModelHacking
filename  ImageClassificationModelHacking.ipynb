{
 "cells": [
  {
   "cell_type": "code",
   "execution_count": 1,
   "metadata": {},
   "outputs": [],
   "source": [
    "# https://coderzcolumn.com/tutorials/artificial-intelligence/object-detection-using-pre-trained-pytorch-models"
   ]
  },
  {
   "cell_type": "markdown",
   "metadata": {},
   "source": [
    "# Todo\n",
    "\n",
    "How to speed up\n",
    "* See if runs on CUDA\n",
    "* Better GPU?\n",
    "\n",
    "Have search pixels do random replacements\n",
    "* Will this actually be better?\n",
    "* Add all pixels to queue and shuffle it?\n",
    "\n",
    "Implement binary / chunk search\n",
    "* Starts with chunks as big as 100% of image\n",
    "* Then half height and test all\n",
    "* Then half width and test all\n",
    "* Etc\n",
    "\n",
    "Run random pixels and actual image in parrallel\n",
    "* Do both at same time?\n",
    "* Just to see difference"
   ]
  },
  {
   "cell_type": "markdown",
   "metadata": {},
   "source": [
    "# Get Needed Packages"
   ]
  },
  {
   "cell_type": "code",
   "execution_count": 2,
   "metadata": {},
   "outputs": [
    {
     "name": "stdout",
     "output_type": "stream",
     "text": [
      "Requirement already satisfied: torch in c:\\programdata\\anaconda3\\lib\\site-packages (1.13.1)\n",
      "Requirement already satisfied: typing-extensions in c:\\users\\sixtium\\appdata\\roaming\\python\\python37\\site-packages (from torch) (4.2.0)\n",
      "Requirement already satisfied: pycocotools in c:\\programdata\\anaconda3\\lib\\site-packages (2.0.6)\n",
      "Requirement already satisfied: numpy in c:\\programdata\\anaconda3\\lib\\site-packages (from pycocotools) (1.18.1)\n",
      "Requirement already satisfied: matplotlib>=2.1.0 in c:\\programdata\\anaconda3\\lib\\site-packages (from pycocotools) (3.1.3)\n",
      "Requirement already satisfied: cycler>=0.10 in c:\\programdata\\anaconda3\\lib\\site-packages (from matplotlib>=2.1.0->pycocotools) (0.10.0)\n",
      "Requirement already satisfied: kiwisolver>=1.0.1 in c:\\programdata\\anaconda3\\lib\\site-packages (from matplotlib>=2.1.0->pycocotools) (1.1.0)\n",
      "Requirement already satisfied: pyparsing!=2.0.4,!=2.1.2,!=2.1.6,>=2.0.1 in c:\\programdata\\anaconda3\\lib\\site-packages (from matplotlib>=2.1.0->pycocotools) (2.4.6)\n",
      "Requirement already satisfied: python-dateutil>=2.1 in c:\\programdata\\anaconda3\\lib\\site-packages (from matplotlib>=2.1.0->pycocotools) (2.8.1)\n",
      "Requirement already satisfied: six in c:\\programdata\\anaconda3\\lib\\site-packages (from cycler>=0.10->matplotlib>=2.1.0->pycocotools) (1.14.0)\n",
      "Requirement already satisfied: setuptools in c:\\programdata\\anaconda3\\lib\\site-packages (from kiwisolver>=1.0.1->matplotlib>=2.1.0->pycocotools) (45.2.0.post20200210)\n"
     ]
    },
    {
     "name": "stderr",
     "output_type": "stream",
     "text": [
      "C:\\ProgramData\\Anaconda3\\lib\\site-packages\\requests\\__init__.py:91: RequestsDependencyWarning: urllib3 (1.26.9) or chardet (3.0.4) doesn't match a supported version!\n",
      "  RequestsDependencyWarning)\n"
     ]
    },
    {
     "name": "stdout",
     "output_type": "stream",
     "text": [
      "TorchVision Version : 0.14.1+cpu\n",
      "PyTorch Version : 1.13.1+cpu\n"
     ]
    }
   ],
   "source": [
    "!pip install torch\n",
    "!pip install pycocotools\n",
    "\n",
    "import torch\n",
    "import random\n",
    "import pycocotools\n",
    "import numpy as np\n",
    "import torchvision\n",
    "from PIL import Image\n",
    "import matplotlib.pyplot as plt\n",
    "from pycocotools.coco import COCO\n",
    "from torchvision.utils import draw_bounding_boxes\n",
    "from torchvision.transforms.functional import to_pil_image\n",
    "from torchvision.transforms.functional import pil_to_tensor\n",
    "from torchvision.models.detection import fasterrcnn_resnet50_fpn\n",
    "\n",
    "print(\"TorchVision Version : {}\".format(torchvision.__version__))\n",
    "print(\"PyTorch Version : {}\".format(torch.__version__))"
   ]
  },
  {
   "cell_type": "markdown",
   "metadata": {},
   "source": [
    "# Image Classification Function"
   ]
  },
  {
   "cell_type": "markdown",
   "metadata": {},
   "source": [
    "## Constants from \"get_image_data()\" to speed it up"
   ]
  },
  {
   "cell_type": "code",
   "execution_count": 3,
   "metadata": {},
   "outputs": [
    {
     "name": "stderr",
     "output_type": "stream",
     "text": [
      "C:\\ProgramData\\Anaconda3\\lib\\site-packages\\torchvision\\models\\_utils.py:209: UserWarning: The parameter 'pretrained' is deprecated since 0.13 and may be removed in the future, please use 'weights' instead.\n",
      "  f\"The parameter '{pretrained_param}' is deprecated since 0.13 and may be removed in the future, \"\n",
      "C:\\ProgramData\\Anaconda3\\lib\\site-packages\\torchvision\\models\\_utils.py:223: UserWarning: Arguments other than a weight enum or `None` for 'weights' are deprecated since 0.13 and may be removed in the future. The current behavior is equivalent to passing `weights=FasterRCNN_ResNet50_FPN_Weights.COCO_V1`. You can also use `weights=FasterRCNN_ResNet50_FPN_Weights.DEFAULT` to get the most up-to-date weights.\n",
      "  warnings.warn(msg)\n"
     ]
    },
    {
     "name": "stdout",
     "output_type": "stream",
     "text": [
      "loading annotations into memory...\n",
      "Done (t=0.99s)\n",
      "creating index...\n",
      "index created!\n"
     ]
    }
   ],
   "source": [
    "# The actual detection model\n",
    "object_detection_model = fasterrcnn_resnet50_fpn(pretrained=True, progress=False)\n",
    "object_detection_model.eval(); ## Setting Model for Evaluation/Prediction\n",
    "\n",
    "# File with the possible results\n",
    "annFile='annotations/instances_val2017.json'\n",
    "coco=COCO(annFile)    "
   ]
  },
  {
   "cell_type": "code",
   "execution_count": 4,
   "metadata": {},
   "outputs": [],
   "source": [
    "# Get the results of the image classification\n",
    "def get_image_data(path):\n",
    "    image = Image.open(path)\n",
    "    image_tensor_int = pil_to_tensor(image)\n",
    "    image_tensor_int = image_tensor_int.unsqueeze(dim=0)\n",
    "    image_tensor_float = image_tensor_int / 255.0\n",
    "    image_preds = object_detection_model(image_tensor_float)\n",
    "    \n",
    "    image_preds[0][\"boxes\"] = image_preds[0][\"boxes\"][image_preds[0][\"scores\"] > 0.8]\n",
    "    image_preds[0][\"labels\"] = image_preds[0][\"labels\"][image_preds[0][\"scores\"] > 0.8]\n",
    "    image_preds[0][\"scores\"] = image_preds[0][\"scores\"][image_preds[0][\"scores\"] > 0.8]\n",
    "    \n",
    "    image_labels = coco.loadCats(image_preds[0][\"labels\"].numpy())\n",
    "    \n",
    "    image_annot_labels = [\"{}-{:.2f}\".format(label[\"name\"], prob) for label, prob in zip(image_labels, image_preds[0][\"scores\"].detach().numpy())]\n",
    "        \n",
    "    return [image_labels[0][\"name\"], image_preds[0][\"scores\"][0].item()]"
   ]
  },
  {
   "cell_type": "markdown",
   "metadata": {},
   "source": [
    "# Auxiliary Functions"
   ]
  },
  {
   "cell_type": "code",
   "execution_count": 5,
   "metadata": {},
   "outputs": [],
   "source": [
    "# Change a random pixel of an image to a random color\n",
    "def change_random_pixel(path):\n",
    "    image = Image.open(path)\n",
    "    pixels = image.load()\n",
    "\n",
    "    width, height = image.size\n",
    "    color = (random.randint(0, 255), random.randint(0, 255), random.randint(0, 255))\n",
    "    \n",
    "    pixels[random.randint(0, width-1), random.randint(0, height-1)] = color\n",
    "    image.save(path)"
   ]
  },
  {
   "cell_type": "code",
   "execution_count": 6,
   "metadata": {},
   "outputs": [],
   "source": [
    "# Change a random pixel and analyze the result\n",
    "def change_and_analyze(path):\n",
    "    change_random_pixel(path)\n",
    "    results = get_image_data(path)\n",
    "    return get_image_data(path)"
   ]
  },
  {
   "cell_type": "code",
   "execution_count": 7,
   "metadata": {},
   "outputs": [],
   "source": [
    "# Change a set pixel to a random color\n",
    "def change_pixel_to_random_color(path, pixel_x, pixel_y):\n",
    "    image = Image.open(path)\n",
    "    pixels = image.load()\n",
    "\n",
    "    width, height = image.size\n",
    "    color = (random.randint(0, 255), random.randint(0, 255), random.randint(0, 255))\n",
    "    \n",
    "    pixels[pixel_x, pixel_y] = color\n",
    "    image.save(path)"
   ]
  },
  {
   "cell_type": "code",
   "execution_count": 8,
   "metadata": {},
   "outputs": [],
   "source": [
    "# Change a set pixel to the color of another image\n",
    "def change_pixel_to_image(path, replacement_path, pixel_x, pixel_y):\n",
    "    image = Image.open(path)\n",
    "    pixels = image.load()\n",
    "    \n",
    "    replacement_image = Image.open(replacement_path)\n",
    "    replacement_pixels = replacement_image.load()\n",
    "\n",
    "    width, height = image.size\n",
    "    \n",
    "    pixels[pixel_x, pixel_y] = replacement_pixels[pixel_x, pixel_y]\n",
    "    image.save(path)"
   ]
  },
  {
   "cell_type": "code",
   "execution_count": 9,
   "metadata": {},
   "outputs": [],
   "source": [
    "# Clone the paths\n",
    "def clone_path(base_path, clone_path):\n",
    "    image = Image.open(base_path)\n",
    "    image.save(clone_path)"
   ]
  },
  {
   "cell_type": "markdown",
   "metadata": {},
   "source": [
    "# Get Initial Results"
   ]
  },
  {
   "cell_type": "markdown",
   "metadata": {},
   "source": [
    "## Inputs"
   ]
  },
  {
   "cell_type": "code",
   "execution_count": 10,
   "metadata": {},
   "outputs": [],
   "source": [
    "# Path of the original image\n",
    "path = \"dog.jpg\"\n",
    "\n",
    "# Path of the image to replace, leave as empty string if you want random pixels\n",
    "replacement_path = \"\"\n",
    "\n",
    "# How much you want the accuracy of the image classification to drop\n",
    "acceptable_accuracy_drop = 0.10"
   ]
  },
  {
   "cell_type": "code",
   "execution_count": null,
   "metadata": {},
   "outputs": [
    {
     "name": "stdout",
     "output_type": "stream",
     "text": [
      "Iteration: 0/65536\tChanges: 0\tBase: 0.99144\tTemp: 0.99144\tDifference is 0.0\n",
      "Iteration: 1/65536\tChanges: 1\tBase: 0.99144\tTemp: 0.99144\tDifference is 0.0\n",
      "Iteration: 2/65536\tChanges: 2\tBase: 0.99144\tTemp: 0.99144\tDifference is 0.0\n",
      "Iteration: 3/65536\tChanges: 3\tBase: 0.99144\tTemp: 0.99145\tDifference is 1e-05\n",
      "Iteration: 4/65536\tChanges: 4\tBase: 0.99144\tTemp: 0.99145\tDifference is 1e-05\n",
      "Iteration: 5/65536\tChanges: 5\tBase: 0.99144\tTemp: 0.99145\tDifference is 1e-05\n",
      "Iteration: 6/65536\tChanges: 6\tBase: 0.99144\tTemp: 0.99146\tDifference is 2e-05\n",
      "Iteration: 7/65536\tChanges: 7\tBase: 0.99144\tTemp: 0.99146\tDifference is 2e-05\n",
      "Iteration: 8/65536\tChanges: 8\tBase: 0.99144\tTemp: 0.99146\tDifference is 2e-05\n",
      "Iteration: 9/65536\tChanges: 9\tBase: 0.99144\tTemp: 0.99147\tDifference is 3e-05\n",
      "Iteration: 10/65536\tChanges: 10\tBase: 0.99144\tTemp: 0.99147\tDifference is 3e-05\n",
      "Iteration: 11/65536\tChanges: 11\tBase: 0.99144\tTemp: 0.99147\tDifference is 3e-05\n",
      "Iteration: 12/65536\tChanges: 12\tBase: 0.99144\tTemp: 0.99147\tDifference is 3e-05\n",
      "Iteration: 13/65536\tChanges: 13\tBase: 0.99144\tTemp: 0.99148\tDifference is 4e-05\n",
      "Iteration: 14/65536\tChanges: 14\tBase: 0.99144\tTemp: 0.99148\tDifference is 4e-05\n",
      "Iteration: 15/65536\tChanges: 15\tBase: 0.99144\tTemp: 0.99148\tDifference is 4e-05\n",
      "Iteration: 16/65536\tChanges: 16\tBase: 0.99144\tTemp: 0.99148\tDifference is 4e-05\n",
      "Iteration: 17/65536\tChanges: 17\tBase: 0.99144\tTemp: 0.99148\tDifference is 4e-05\n",
      "Iteration: 18/65536\tChanges: 18\tBase: 0.99144\tTemp: 0.99148\tDifference is 4e-05\n",
      "Iteration: 19/65536\tChanges: 19\tBase: 0.99144\tTemp: 0.99149\tDifference is 5e-05\n",
      "Iteration: 20/65536\tChanges: 20\tBase: 0.99144\tTemp: 0.99149\tDifference is 5e-05\n",
      "Iteration: 21/65536\tChanges: 21\tBase: 0.99144\tTemp: 0.99148\tDifference is 4e-05\n",
      "Iteration: 22/65536\tChanges: 22\tBase: 0.99144\tTemp: 0.99148\tDifference is 4e-05\n",
      "Iteration: 23/65536\tChanges: 23\tBase: 0.99144\tTemp: 0.99148\tDifference is 4e-05\n",
      "Iteration: 24/65536\tChanges: 24\tBase: 0.99144\tTemp: 0.99148\tDifference is 4e-05\n",
      "Iteration: 25/65536\tChanges: 25\tBase: 0.99144\tTemp: 0.99147\tDifference is 3e-05\n",
      "Iteration: 26/65536\tChanges: 26\tBase: 0.99144\tTemp: 0.99147\tDifference is 3e-05\n",
      "Iteration: 27/65536\tChanges: 27\tBase: 0.99144\tTemp: 0.99147\tDifference is 3e-05\n",
      "Iteration: 28/65536\tChanges: 28\tBase: 0.99144\tTemp: 0.99148\tDifference is 4e-05\n",
      "Iteration: 29/65536\tChanges: 29\tBase: 0.99144\tTemp: 0.99148\tDifference is 4e-05\n",
      "Iteration: 30/65536\tChanges: 30\tBase: 0.99144\tTemp: 0.99148\tDifference is 4e-05\n",
      "Iteration: 31/65536\tChanges: 31\tBase: 0.99144\tTemp: 0.99148\tDifference is 4e-05\n",
      "Iteration: 32/65536\tChanges: 32\tBase: 0.99144\tTemp: 0.99148\tDifference is 4e-05\n",
      "Iteration: 33/65536\tChanges: 33\tBase: 0.99144\tTemp: 0.99149\tDifference is 5e-05\n",
      "Iteration: 34/65536\tChanges: 34\tBase: 0.99144\tTemp: 0.99149\tDifference is 5e-05\n",
      "Iteration: 35/65536\tChanges: 35\tBase: 0.99144\tTemp: 0.99149\tDifference is 5e-05\n",
      "Iteration: 36/65536\tChanges: 36\tBase: 0.99144\tTemp: 0.99149\tDifference is 5e-05\n",
      "Iteration: 37/65536\tChanges: 37\tBase: 0.99144\tTemp: 0.99147\tDifference is 3e-05\n",
      "Iteration: 38/65536\tChanges: 38\tBase: 0.99144\tTemp: 0.99147\tDifference is 3e-05\n",
      "Iteration: 39/65536\tChanges: 39\tBase: 0.99144\tTemp: 0.99147\tDifference is 3e-05\n",
      "Iteration: 40/65536\tChanges: 40\tBase: 0.99144\tTemp: 0.99145\tDifference is 1e-05\n",
      "Iteration: 41/65536\tChanges: 41\tBase: 0.99144\tTemp: 0.99143\tDifference is 1e-05\n",
      "Iteration: 82/65536\tChanges: 41\tBase: 0.99144\tTemp: 0.99143\tDifference is 1e-05\n",
      "Iteration: 42/65536\tChanges: 42\tBase: 0.99144\tTemp: 0.99143\tDifference is 1e-05\n",
      "Iteration: 84/65536\tChanges: 42\tBase: 0.99144\tTemp: 0.99143\tDifference is 1e-05\n",
      "Iteration: 43/65536\tChanges: 43\tBase: 0.99144\tTemp: 0.99143\tDifference is 1e-05\n",
      "Iteration: 86/65536\tChanges: 43\tBase: 0.99144\tTemp: 0.99143\tDifference is 1e-05\n",
      "Iteration: 44/65536\tChanges: 44\tBase: 0.99144\tTemp: 0.99141\tDifference is 3e-05\n",
      "Iteration: 88/65536\tChanges: 44\tBase: 0.99144\tTemp: 0.99141\tDifference is 3e-05\n",
      "Iteration: 45/65536\tChanges: 45\tBase: 0.99144\tTemp: 0.99144\tDifference is 0.0\n",
      "Iteration: 46/65536\tChanges: 46\tBase: 0.99144\tTemp: 0.99146\tDifference is 2e-05\n",
      "Iteration: 47/65536\tChanges: 47\tBase: 0.99144\tTemp: 0.99147\tDifference is 3e-05\n",
      "Iteration: 48/65536\tChanges: 48\tBase: 0.99144\tTemp: 0.99145\tDifference is 1e-05\n",
      "Iteration: 49/65536\tChanges: 49\tBase: 0.99144\tTemp: 0.99144\tDifference is 0.0\n",
      "Iteration: 50/65536\tChanges: 50\tBase: 0.99144\tTemp: 0.99142\tDifference is 2e-05\n",
      "Iteration: 100/65536\tChanges: 50\tBase: 0.99144\tTemp: 0.99142\tDifference is 2e-05\n",
      "Iteration: 51/65536\tChanges: 51\tBase: 0.99144\tTemp: 0.9914\tDifference is 4e-05\n",
      "Iteration: 102/65536\tChanges: 51\tBase: 0.99144\tTemp: 0.9914\tDifference is 4e-05\n",
      "Iteration: 52/65536\tChanges: 52\tBase: 0.99144\tTemp: 0.99139\tDifference is 5e-05\n",
      "Iteration: 104/65536\tChanges: 52\tBase: 0.99144\tTemp: 0.99139\tDifference is 5e-05\n",
      "Iteration: 53/65536\tChanges: 53\tBase: 0.99144\tTemp: 0.99141\tDifference is 3e-05\n",
      "Iteration: 106/65536\tChanges: 53\tBase: 0.99144\tTemp: 0.99141\tDifference is 3e-05\n",
      "Iteration: 54/65536\tChanges: 54\tBase: 0.99144\tTemp: 0.99143\tDifference is 1e-05\n",
      "Iteration: 108/65536\tChanges: 54\tBase: 0.99144\tTemp: 0.99143\tDifference is 1e-05\n",
      "Iteration: 55/65536\tChanges: 55\tBase: 0.99144\tTemp: 0.99145\tDifference is 1e-05\n",
      "Iteration: 56/65536\tChanges: 56\tBase: 0.99144\tTemp: 0.99149\tDifference is 5e-05\n",
      "Iteration: 57/65536\tChanges: 57\tBase: 0.99144\tTemp: 0.9915\tDifference is 6e-05\n",
      "Iteration: 58/65536\tChanges: 58\tBase: 0.99144\tTemp: 0.99149\tDifference is 5e-05\n",
      "Iteration: 59/65536\tChanges: 59\tBase: 0.99144\tTemp: 0.9915\tDifference is 6e-05\n",
      "Iteration: 60/65536\tChanges: 60\tBase: 0.99144\tTemp: 0.99149\tDifference is 5e-05\n",
      "Iteration: 61/65536\tChanges: 61\tBase: 0.99144\tTemp: 0.9915\tDifference is 6e-05\n",
      "Iteration: 62/65536\tChanges: 62\tBase: 0.99144\tTemp: 0.99155\tDifference is 0.00011\n",
      "Iteration: 63/65536\tChanges: 63\tBase: 0.99144\tTemp: 0.99152\tDifference is 8e-05\n",
      "Iteration: 64/65536\tChanges: 64\tBase: 0.99144\tTemp: 0.99149\tDifference is 5e-05\n",
      "Iteration: 65/65536\tChanges: 65\tBase: 0.99144\tTemp: 0.99148\tDifference is 4e-05\n",
      "Iteration: 66/65536\tChanges: 66\tBase: 0.99144\tTemp: 0.99149\tDifference is 5e-05\n",
      "Iteration: 67/65536\tChanges: 67\tBase: 0.99144\tTemp: 0.9915\tDifference is 6e-05\n",
      "Iteration: 68/65536\tChanges: 68\tBase: 0.99144\tTemp: 0.99148\tDifference is 4e-05\n",
      "Iteration: 69/65536\tChanges: 69\tBase: 0.99144\tTemp: 0.99149\tDifference is 5e-05\n",
      "Iteration: 70/65536\tChanges: 70\tBase: 0.99144\tTemp: 0.99146\tDifference is 2e-05\n",
      "Iteration: 71/65536\tChanges: 71\tBase: 0.99144\tTemp: 0.99145\tDifference is 1e-05\n",
      "Iteration: 72/65536\tChanges: 72\tBase: 0.99144\tTemp: 0.99146\tDifference is 2e-05\n",
      "Iteration: 73/65536\tChanges: 73\tBase: 0.99144\tTemp: 0.99143\tDifference is 1e-05\n",
      "Iteration: 146/65536\tChanges: 73\tBase: 0.99144\tTemp: 0.99143\tDifference is 1e-05\n",
      "Iteration: 74/65536\tChanges: 74\tBase: 0.99144\tTemp: 0.9913\tDifference is 0.00014\n",
      "Iteration: 148/65536\tChanges: 74\tBase: 0.99144\tTemp: 0.9913\tDifference is 0.00014\n",
      "Iteration: 222/65536\tChanges: 74\tBase: 0.99144\tTemp: 0.9913\tDifference is 0.00014\n",
      "Iteration: 75/65536\tChanges: 75\tBase: 0.99144\tTemp: 0.99132\tDifference is 0.00012\n",
      "Iteration: 150/65536\tChanges: 75\tBase: 0.99144\tTemp: 0.99132\tDifference is 0.00012\n",
      "Iteration: 225/65536\tChanges: 75\tBase: 0.99144\tTemp: 0.99132\tDifference is 0.00012\n",
      "Iteration: 76/65536\tChanges: 76\tBase: 0.99144\tTemp: 0.9913\tDifference is 0.00014\n",
      "Iteration: 152/65536\tChanges: 76\tBase: 0.99144\tTemp: 0.9913\tDifference is 0.00014\n",
      "Iteration: 228/65536\tChanges: 76\tBase: 0.99144\tTemp: 0.9913\tDifference is 0.00014\n",
      "Iteration: 77/65536\tChanges: 77\tBase: 0.99144\tTemp: 0.99129\tDifference is 0.00015\n",
      "Iteration: 154/65536\tChanges: 77\tBase: 0.99144\tTemp: 0.99129\tDifference is 0.00015\n",
      "Iteration: 231/65536\tChanges: 77\tBase: 0.99144\tTemp: 0.99129\tDifference is 0.00015\n",
      "Iteration: 78/65536\tChanges: 78\tBase: 0.99144\tTemp: 0.99138\tDifference is 6e-05\n",
      "Iteration: 156/65536\tChanges: 78\tBase: 0.99144\tTemp: 0.99138\tDifference is 6e-05\n",
      "Iteration: 79/65536\tChanges: 79\tBase: 0.99144\tTemp: 0.99138\tDifference is 6e-05\n",
      "Iteration: 158/65536\tChanges: 79\tBase: 0.99144\tTemp: 0.99138\tDifference is 6e-05\n",
      "Iteration: 80/65536\tChanges: 80\tBase: 0.99144\tTemp: 0.9914\tDifference is 4e-05\n",
      "Iteration: 160/65536\tChanges: 80\tBase: 0.99144\tTemp: 0.9914\tDifference is 4e-05\n",
      "Iteration: 81/65536\tChanges: 81\tBase: 0.99144\tTemp: 0.99146\tDifference is 2e-05\n"
     ]
    },
    {
     "name": "stdout",
     "output_type": "stream",
     "text": [
      "Iteration: 82/65536\tChanges: 82\tBase: 0.99144\tTemp: 0.99154\tDifference is 0.0001\n",
      "Iteration: 83/65536\tChanges: 83\tBase: 0.99144\tTemp: 0.99158\tDifference is 0.00014\n",
      "Iteration: 84/65536\tChanges: 84\tBase: 0.99144\tTemp: 0.99149\tDifference is 5e-05\n",
      "Iteration: 85/65536\tChanges: 85\tBase: 0.99144\tTemp: 0.99151\tDifference is 7e-05\n",
      "Iteration: 86/65536\tChanges: 86\tBase: 0.99144\tTemp: 0.99147\tDifference is 3e-05\n",
      "Iteration: 87/65536\tChanges: 87\tBase: 0.99144\tTemp: 0.99147\tDifference is 3e-05\n",
      "Iteration: 88/65536\tChanges: 88\tBase: 0.99144\tTemp: 0.99145\tDifference is 1e-05\n",
      "Iteration: 89/65536\tChanges: 89\tBase: 0.99144\tTemp: 0.99151\tDifference is 7e-05\n",
      "Iteration: 90/65536\tChanges: 90\tBase: 0.99144\tTemp: 0.99151\tDifference is 7e-05\n",
      "Iteration: 91/65536\tChanges: 91\tBase: 0.99144\tTemp: 0.99151\tDifference is 7e-05\n",
      "Iteration: 92/65536\tChanges: 92\tBase: 0.99144\tTemp: 0.99152\tDifference is 8e-05\n",
      "Iteration: 93/65536\tChanges: 93\tBase: 0.99144\tTemp: 0.99157\tDifference is 0.00013\n",
      "Iteration: 94/65536\tChanges: 94\tBase: 0.99144\tTemp: 0.99159\tDifference is 0.00015\n",
      "Iteration: 95/65536\tChanges: 95\tBase: 0.99144\tTemp: 0.99152\tDifference is 8e-05\n",
      "Iteration: 96/65536\tChanges: 96\tBase: 0.99144\tTemp: 0.99154\tDifference is 0.0001\n",
      "Iteration: 97/65536\tChanges: 97\tBase: 0.99144\tTemp: 0.99152\tDifference is 8e-05\n",
      "Iteration: 98/65536\tChanges: 98\tBase: 0.99144\tTemp: 0.99154\tDifference is 0.0001\n",
      "Iteration: 99/65536\tChanges: 99\tBase: 0.99144\tTemp: 0.99149\tDifference is 5e-05\n",
      "Iteration: 100/65536\tChanges: 100\tBase: 0.99144\tTemp: 0.99143\tDifference is 1e-05\n",
      "Iteration: 200/65536\tChanges: 100\tBase: 0.99144\tTemp: 0.99143\tDifference is 1e-05\n",
      "Iteration: 101/65536\tChanges: 101\tBase: 0.99144\tTemp: 0.99136\tDifference is 8e-05\n",
      "Iteration: 202/65536\tChanges: 101\tBase: 0.99144\tTemp: 0.99136\tDifference is 8e-05\n",
      "Iteration: 102/65536\tChanges: 102\tBase: 0.99144\tTemp: 0.99137\tDifference is 7e-05\n",
      "Iteration: 204/65536\tChanges: 102\tBase: 0.99144\tTemp: 0.99137\tDifference is 7e-05\n",
      "Iteration: 103/65536\tChanges: 103\tBase: 0.99144\tTemp: 0.99135\tDifference is 9e-05\n",
      "Iteration: 206/65536\tChanges: 103\tBase: 0.99144\tTemp: 0.99135\tDifference is 9e-05\n",
      "Iteration: 104/65536\tChanges: 104\tBase: 0.99144\tTemp: 0.99136\tDifference is 8e-05\n",
      "Iteration: 208/65536\tChanges: 104\tBase: 0.99144\tTemp: 0.99136\tDifference is 8e-05\n",
      "Iteration: 105/65536\tChanges: 105\tBase: 0.99144\tTemp: 0.99138\tDifference is 6e-05\n",
      "Iteration: 210/65536\tChanges: 105\tBase: 0.99144\tTemp: 0.99138\tDifference is 6e-05\n",
      "Iteration: 106/65536\tChanges: 106\tBase: 0.99144\tTemp: 0.99139\tDifference is 5e-05\n",
      "Iteration: 212/65536\tChanges: 106\tBase: 0.99144\tTemp: 0.99139\tDifference is 5e-05\n",
      "Iteration: 107/65536\tChanges: 107\tBase: 0.99144\tTemp: 0.99141\tDifference is 3e-05\n",
      "Iteration: 214/65536\tChanges: 107\tBase: 0.99144\tTemp: 0.99141\tDifference is 3e-05\n",
      "Iteration: 108/65536\tChanges: 108\tBase: 0.99144\tTemp: 0.99141\tDifference is 3e-05\n"
     ]
    }
   ],
   "source": [
    "results = []\n",
    "\n",
    "# Deal with original image\n",
    "path_2 = f\"{2}_{path[:-4]}.png\"\n",
    "    \n",
    "clone_path(path, path_2)\n",
    "\n",
    "image = Image.open(path)\n",
    "pixels = image.load()\n",
    "width, height = image.size\n",
    "\n",
    "# Deal with replacement image\n",
    "replacement_path_2 = \"\"\n",
    "\n",
    "if replacement_path != \"\":\n",
    "    replacement_path_2 = f\"{2}_{replacement_path[:-4]}.png\"\n",
    "    img = Image.open(replacement_path)\n",
    "    img_resize = img.resize((width, height), Image.LANCZOS)\n",
    "    img_resize.save(replacement_path_2)\n",
    "\n",
    "# Get starting variables\n",
    "base_result_percentage = round(get_image_data(path_2)[1],5)\n",
    "changes_list = []\n",
    "changes = 0\n",
    "\n",
    "# Iterate over image while changing pixels\n",
    "for x in range(width):\n",
    "    for y in range(height):\n",
    "        \n",
    "        # Setup temp image\n",
    "        temp_path = f\"{3}_{path[:-4]}.png\"\n",
    "        clone_path(path_2, temp_path)\n",
    "        changes_list.append(changes)\n",
    "        \n",
    "        # Change pixels based on random pixels or image\n",
    "        if replacement_path != \"\":\n",
    "            change_pixel_to_image(temp_path, replacement_path_2, pixel_x, pixel_y)\n",
    "        else:\n",
    "            change_pixel_to_random_color(temp_path, x, y)\n",
    "        \n",
    "        # Result of the changes\n",
    "        temp_result_percentage = round(get_image_data(path_2)[1],5)\n",
    "        \n",
    "        # Print out the information\n",
    "        print(\"X: {}\\tY: {}\\tChanges: {}\\tBase: {}\\tTemp: {}\\tDelta {}\".format(\n",
    "            x, y,\n",
    "            changes,\n",
    "            base_result_percentage,\n",
    "            temp_result_percentage,\n",
    "            round(abs(temp_result_percentage - base_result_percentage),5)\n",
    "        ))\n",
    "        \n",
    "        # Check error bounds on image\n",
    "        if temp_result_percentage >= (base_result_percentage-((acceptable_accuracy_drop*x*y)/(width*height))):\n",
    "            # If within error bounds, keep the image\n",
    "            clone_path(temp_path, path_2)\n",
    "            changes += 1\n",
    "            break\n",
    "        else:\n",
    "            # Discard image\n",
    "            clone_path(path_2, temp_path)\n",
    "        \n",
    "        # Update results\n",
    "        results.append(changes)"
   ]
  },
  {
   "cell_type": "markdown",
   "metadata": {},
   "source": [
    "# Results"
   ]
  },
  {
   "cell_type": "markdown",
   "metadata": {},
   "source": [
    "## Plot Results"
   ]
  },
  {
   "cell_type": "code",
   "execution_count": null,
   "metadata": {},
   "outputs": [],
   "source": [
    "results_x = [i for i in range(len(results))]\n",
    "\n",
    "plt.plot(results_x, results)\n",
    "plt.show()"
   ]
  },
  {
   "cell_type": "markdown",
   "metadata": {},
   "source": [
    "## Show Results"
   ]
  },
  {
   "cell_type": "code",
   "execution_count": null,
   "metadata": {},
   "outputs": [],
   "source": [
    "# Original Image\n",
    "original = Image.open(path)\n",
    "original.show()"
   ]
  },
  {
   "cell_type": "code",
   "execution_count": null,
   "metadata": {},
   "outputs": [],
   "source": [
    "# Finished Image\n",
    "finished = Image.open(path_2)\n",
    "finished.show()"
   ]
  }
 ],
 "metadata": {
  "kernelspec": {
   "display_name": "Python 3",
   "language": "python",
   "name": "python3"
  },
  "language_info": {
   "codemirror_mode": {
    "name": "ipython",
    "version": 3
   },
   "file_extension": ".py",
   "mimetype": "text/x-python",
   "name": "python",
   "nbconvert_exporter": "python",
   "pygments_lexer": "ipython3",
   "version": "3.7.6"
  }
 },
 "nbformat": 4,
 "nbformat_minor": 5
}
