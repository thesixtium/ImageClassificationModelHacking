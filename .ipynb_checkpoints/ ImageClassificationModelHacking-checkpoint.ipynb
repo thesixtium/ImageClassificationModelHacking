{
 "cells": [
  {
   "cell_type": "code",
   "execution_count": null,
   "metadata": {},
   "outputs": [],
   "source": [
    "# https://coderzcolumn.com/tutorials/artificial-intelligence/object-detection-using-pre-trained-pytorch-models"
   ]
  },
  {
   "cell_type": "markdown",
   "metadata": {},
   "source": [
    "# Todo\n",
    "\n",
    "How to speed up\n",
    "* See if runs on CUDA\n",
    "* Better GPU?\n",
    "\n",
    "Have search pixels do random replacements\n",
    "* Will this actually be better?\n",
    "* Add all pixels to queue and shuffle it?\n",
    "\n",
    "Implement binary / chunk search\n",
    "* Starts with chunks as big as 100% of image\n",
    "* Then half height and test all\n",
    "* Then half width and test all\n",
    "* Etc\n",
    "\n",
    "Run random pixels and actual image in parrallel\n",
    "* Do both at same time?\n",
    "* Just to see difference"
   ]
  },
  {
   "cell_type": "markdown",
   "metadata": {},
   "source": [
    "# Get Needed Packages"
   ]
  },
  {
   "cell_type": "code",
   "execution_count": null,
   "metadata": {},
   "outputs": [],
   "source": [
    "!pip install torch\n",
    "!pip install pycocotools\n",
    "\n",
    "import torch\n",
    "import random\n",
    "import pycocotools\n",
    "import numpy as np\n",
    "import torchvision\n",
    "from PIL import Image\n",
    "import matplotlib.pyplot as plt\n",
    "from pycocotools.coco import COCO\n",
    "from torchvision.utils import draw_bounding_boxes\n",
    "from torchvision.transforms.functional import to_pil_image\n",
    "from torchvision.transforms.functional import pil_to_tensor\n",
    "from torchvision.models.detection import fasterrcnn_resnet50_fpn\n",
    "\n",
    "print(\"TorchVision Version : {}\".format(torchvision.__version__))\n",
    "print(\"PyTorch Version : {}\".format(torch.__version__))"
   ]
  },
  {
   "cell_type": "markdown",
   "metadata": {},
   "source": [
    "# Image Classification Function"
   ]
  },
  {
   "cell_type": "markdown",
   "metadata": {},
   "source": [
    "## Constants from \"get_image_data()\" to speed it up"
   ]
  },
  {
   "cell_type": "code",
   "execution_count": null,
   "metadata": {},
   "outputs": [],
   "source": [
    "# The actual detection model\n",
    "object_detection_model = fasterrcnn_resnet50_fpn(pretrained=True, progress=False)\n",
    "object_detection_model.eval(); ## Setting Model for Evaluation/Prediction\n",
    "\n",
    "# File with the possible results\n",
    "annFile='annotations/instances_val2017.json'\n",
    "coco=COCO(annFile)    "
   ]
  },
  {
   "cell_type": "code",
   "execution_count": null,
   "metadata": {},
   "outputs": [],
   "source": [
    "# Get the results of the image classification\n",
    "def get_image_data(path):\n",
    "    image = Image.open(path)\n",
    "    image_tensor_int = pil_to_tensor(image)\n",
    "    image_tensor_int = image_tensor_int.unsqueeze(dim=0)\n",
    "    image_tensor_float = image_tensor_int / 255.0\n",
    "    image_preds = object_detection_model(image_tensor_float)\n",
    "    \n",
    "    image_preds[0][\"boxes\"] = image_preds[0][\"boxes\"][image_preds[0][\"scores\"] > 0.8]\n",
    "    image_preds[0][\"labels\"] = image_preds[0][\"labels\"][image_preds[0][\"scores\"] > 0.8]\n",
    "    image_preds[0][\"scores\"] = image_preds[0][\"scores\"][image_preds[0][\"scores\"] > 0.8]\n",
    "    \n",
    "    image_labels = coco.loadCats(image_preds[0][\"labels\"].numpy())\n",
    "    \n",
    "    image_annot_labels = [\"{}-{:.2f}\".format(label[\"name\"], prob) for label, prob in zip(image_labels, image_preds[0][\"scores\"].detach().numpy())]\n",
    "        \n",
    "    return [image_labels[0][\"name\"], image_preds[0][\"scores\"][0].item()]"
   ]
  },
  {
   "cell_type": "markdown",
   "metadata": {},
   "source": [
    "# Auxiliary Functions"
   ]
  },
  {
   "cell_type": "code",
   "execution_count": null,
   "metadata": {},
   "outputs": [],
   "source": [
    "# Change a random pixel of an image to a random color\n",
    "def change_random_pixel(path):\n",
    "    image = Image.open(path)\n",
    "    pixels = image.load()\n",
    "\n",
    "    width, height = image.size\n",
    "    color = (random.randint(0, 255), random.randint(0, 255), random.randint(0, 255))\n",
    "    \n",
    "    pixels[random.randint(0, width-1), random.randint(0, height-1)] = color\n",
    "    image.save(path)"
   ]
  },
  {
   "cell_type": "code",
   "execution_count": null,
   "metadata": {},
   "outputs": [],
   "source": [
    "# Change a random pixel and analyze the result\n",
    "def change_and_analyze(path):\n",
    "    change_random_pixel(path)\n",
    "    results = get_image_data(path)\n",
    "    return get_image_data(path)"
   ]
  },
  {
   "cell_type": "code",
   "execution_count": null,
   "metadata": {},
   "outputs": [],
   "source": [
    "# Change a set pixel to a random color\n",
    "def change_pixel_to_random_color(path, pixel_x, pixel_y):\n",
    "    image = Image.open(path)\n",
    "    pixels = image.load()\n",
    "\n",
    "    width, height = image.size\n",
    "    color = (random.randint(0, 255), random.randint(0, 255), random.randint(0, 255))\n",
    "    \n",
    "    pixels[pixel_x, pixel_y] = color\n",
    "    image.save(path)"
   ]
  },
  {
   "cell_type": "code",
   "execution_count": null,
   "metadata": {},
   "outputs": [],
   "source": [
    "# Change a set pixel to the color of another image\n",
    "def change_pixel_to_image(path, replacement_path, pixel_x, pixel_y):\n",
    "    image = Image.open(path)\n",
    "    pixels = image.load()\n",
    "    \n",
    "    replacement_image = Image.open(replacement_path)\n",
    "    replacement_pixels = replacement_image.load()\n",
    "\n",
    "    width, height = image.size\n",
    "    \n",
    "    pixels[pixel_x, pixel_y] = replacement_pixels[pixel_x, pixel_y]\n",
    "    image.save(path)"
   ]
  },
  {
   "cell_type": "code",
   "execution_count": null,
   "metadata": {},
   "outputs": [],
   "source": [
    "# Clone the paths\n",
    "def clone_path(base_path, clone_path):\n",
    "    image = Image.open(base_path)\n",
    "    image.save(clone_path)"
   ]
  },
  {
   "cell_type": "markdown",
   "metadata": {},
   "source": [
    "# Get Initial Results"
   ]
  },
  {
   "cell_type": "markdown",
   "metadata": {},
   "source": [
    "## Inputs"
   ]
  },
  {
   "cell_type": "code",
   "execution_count": null,
   "metadata": {},
   "outputs": [],
   "source": [
    "# Path of the original image\n",
    "path = \"dog.jpg\"\n",
    "\n",
    "# Path of the image to replace, leave as empty string if you want random pixels\n",
    "replacement_path = \"\"\n",
    "\n",
    "# How much you want the accuracy of the image classification to drop\n",
    "acceptable_accuracy_drop = 0.10"
   ]
  },
  {
   "cell_type": "code",
   "execution_count": null,
   "metadata": {},
   "outputs": [],
   "source": [
    "results = []\n",
    "\n",
    "# Deal with original image\n",
    "path_2 = f\"{2}_{path[:-4]}.png\"\n",
    "    \n",
    "clone_path(path, path_2)\n",
    "\n",
    "image = Image.open(path)\n",
    "pixels = image.load()\n",
    "width, height = image.size\n",
    "\n",
    "# Deal with replacement image\n",
    "replacement_path_2 = \"\"\n",
    "\n",
    "if replacement_path != \"\":\n",
    "    replacement_path_2 = f\"{2}_{replacement_path[:-4]}.png\"\n",
    "    img = Image.open(replacement_path)\n",
    "    img_resize = img.resize((width, height), Image.LANCZOS)\n",
    "    img_resize.save(replacement_path_2)\n",
    "\n",
    "# Get starting variables\n",
    "base_result_percentage = round(get_image_data(path_2)[1],5)\n",
    "changes_list = []\n",
    "changes = 0\n",
    "\n",
    "# Iterate over image while changing pixels\n",
    "for x in range(width):\n",
    "    for y in range(height):\n",
    "        \n",
    "        # Setup temp image\n",
    "        temp_path = f\"{3}_{path[:-4]}.png\"\n",
    "        clone_path(path_2, temp_path)\n",
    "        changes_list.append(changes)\n",
    "        \n",
    "        # Change pixels based on random pixels or image\n",
    "        if replacement_path != \"\":\n",
    "            change_pixel_to_image(temp_path, replacement_path_2, pixel_x, pixel_y)\n",
    "        else:\n",
    "            change_pixel_to_random_color(temp_path, x, y)\n",
    "        \n",
    "        # Result of the changes\n",
    "        temp_result_percentage = round(get_image_data(path_2)[1],5)\n",
    "        \n",
    "        # Print out the information\n",
    "        print(\"Iteration: {}/{}\\tChanges: {}\\tBase: {}\\tTemp: {}\\tDifference is {}\".format(\n",
    "            x+(x*y), width*height,\n",
    "            changes,\n",
    "            base_result_percentage,\n",
    "            temp_result_percentage,\n",
    "            round(abs(temp_result_percentage - base_result_percentage),5)\n",
    "        ))\n",
    "        \n",
    "        # Check error bounds on image\n",
    "        if temp_result_percentage >= (base_result_percentage-((acceptable_accuracy_drop*x*y)/(width*height))):\n",
    "            # If within error bounds, keep the image\n",
    "            clone_path(temp_path, path_2)\n",
    "            changes += 1\n",
    "            break\n",
    "        else:\n",
    "            # Discard image\n",
    "            clone_path(path_2, temp_path)\n",
    "        \n",
    "        # Update results\n",
    "        results.append(changes)"
   ]
  },
  {
   "cell_type": "markdown",
   "metadata": {},
   "source": [
    "# Results"
   ]
  },
  {
   "cell_type": "markdown",
   "metadata": {},
   "source": [
    "## Plot Results"
   ]
  },
  {
   "cell_type": "code",
   "execution_count": null,
   "metadata": {},
   "outputs": [],
   "source": [
    "results_x = [i for i in range(len(results))]\n",
    "\n",
    "plt.plot(results_x, results)\n",
    "plt.show()"
   ]
  },
  {
   "cell_type": "markdown",
   "metadata": {},
   "source": [
    "## Show Results"
   ]
  },
  {
   "cell_type": "code",
   "execution_count": null,
   "metadata": {},
   "outputs": [],
   "source": [
    "# Original Image\n",
    "original = Image.open(path)\n",
    "original.show()"
   ]
  },
  {
   "cell_type": "code",
   "execution_count": null,
   "metadata": {},
   "outputs": [],
   "source": [
    "# Finished Image\n",
    "finished = Image.open(path_2)\n",
    "finished.show()"
   ]
  }
 ],
 "metadata": {
  "kernelspec": {
   "display_name": "Python 3",
   "language": "python",
   "name": "python3"
  },
  "language_info": {
   "codemirror_mode": {
    "name": "ipython",
    "version": 3
   },
   "file_extension": ".py",
   "mimetype": "text/x-python",
   "name": "python",
   "nbconvert_exporter": "python",
   "pygments_lexer": "ipython3",
   "version": "3.7.6"
  }
 },
 "nbformat": 4,
 "nbformat_minor": 5
}
